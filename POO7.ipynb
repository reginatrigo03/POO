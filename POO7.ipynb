{
  "nbformat": 4,
  "nbformat_minor": 0,
  "metadata": {
    "colab": {
      "provenance": []
    },
    "kernelspec": {
      "name": "python3",
      "display_name": "Python 3"
    },
    "language_info": {
      "name": "python"
    }
  },
  "cells": [
    {
      "cell_type": "markdown",
      "source": [
        "# Condiciones: If...elif...else\n",
        "\n",
        "\n",
        "\n",
        "\n"
      ],
      "metadata": {
        "id": "52Jrawt2cMbZ"
      }
    },
    {
      "cell_type": "code",
      "source": [
        "letra = \"d\"\n",
        "if letra == \"b\":\n",
        "  print(\"La letra es b\")\n",
        "elif letra == \"c\":\n",
        "  print(\"La letra es c\")\n",
        "elif letra == \"a\":\n",
        "  print(\"La letra es a\")\n",
        "else :\n",
        "  print(\"La letra no es a, b ni c\")"
      ],
      "metadata": {
        "colab": {
          "base_uri": "https://localhost:8080/"
        },
        "id": "9lMSiYYicPVU",
        "outputId": "cb20b710-e54f-44af-ce6e-5380aa104c81"
      },
      "execution_count": null,
      "outputs": [
        {
          "output_type": "stream",
          "name": "stdout",
          "text": [
            "La letra no es a, b ni c\n"
          ]
        }
      ]
    },
    {
      "cell_type": "code",
      "source": [
        "numero = int(input(\"Escribe un número: \"))\n",
        "if numero % 2 == 0 and numero % 4 != 0:\n",
        "  print(f\"{numero} es múltiplo de 2\")\n",
        "elif numero % 4 == 0:\n",
        "  print(f\"{numero} es múltiplo de 4 y de 2\")\n",
        "else:\n",
        "  print(f\"{numero} no es múltiplo de 4 ni de 2\")"
      ],
      "metadata": {
        "colab": {
          "base_uri": "https://localhost:8080/"
        },
        "id": "Nn4e_LRQdhXw",
        "outputId": "899cc1ed-e20d-48ca-c9f8-afb9218414a0"
      },
      "execution_count": null,
      "outputs": [
        {
          "output_type": "stream",
          "name": "stdout",
          "text": [
            "Escribe un número: 8\n",
            "8 es múltiplo de 4 y de 2\n"
          ]
        }
      ]
    },
    {
      "cell_type": "code",
      "source": [
        "edad = int(input(\"Escribe tu edad: \"))\n",
        "if edad > 21:\n",
        "  print(\"Eres legal en todo el mundo\")\n",
        "elif edad == 20:\n",
        "  print(\"Te falta poco para ser legal en todo el mundo, aguanta\")\n",
        "else:\n",
        "  print(\"No eres legal en todo el mundo, vete a dormir\")"
      ],
      "metadata": {
        "colab": {
          "base_uri": "https://localhost:8080/"
        },
        "id": "yl87_okFhYVQ",
        "outputId": "3575a856-e8c5-4b63-9ea1-9965e619e400"
      },
      "execution_count": null,
      "outputs": [
        {
          "output_type": "stream",
          "name": "stdout",
          "text": [
            "Escribe tu edad: 44\n",
            "Eres legal en todo el mundo\n"
          ]
        }
      ]
    },
    {
      "cell_type": "markdown",
      "source": [
        "# Clases y polimorfismos"
      ],
      "metadata": {
        "id": "iZrb4q0Fma4G"
      }
    },
    {
      "cell_type": "code",
      "source": [
        "class mascota:\n",
        "  def hable(self):\n",
        "    return NotImplementedError\n",
        "class perro(mascota):\n",
        "  def hable(self):\n",
        "    return \"woof\"\n",
        "class gato(mascota):\n",
        "  def hable(self):\n",
        "    return \"miau\"\n",
        "class vaca(mascota):\n",
        "  def hable(self):\n",
        "    return \"moo\"\n",
        "class cerdo(mascota):\n",
        "  def hable(self):\n",
        "    return \"oink\""
      ],
      "metadata": {
        "id": "jzCko9xPmd5E"
      },
      "execution_count": null,
      "outputs": []
    },
    {
      "cell_type": "code",
      "source": [
        "# Vamos a crear una lista de mascotas\n",
        "mascotas = [perro(), gato(), vaca(), cerdo()]\n",
        "mascotas"
      ],
      "metadata": {
        "colab": {
          "base_uri": "https://localhost:8080/"
        },
        "id": "9eC6FyEboBf6",
        "outputId": "be1a7125-94e6-4b1a-9249-6f4e9db26c36"
      },
      "execution_count": null,
      "outputs": [
        {
          "output_type": "execute_result",
          "data": {
            "text/plain": [
              "[<__main__.perro at 0x7fbbc9207fd0>,\n",
              " <__main__.gato at 0x7fbbc92061a0>,\n",
              " <__main__.vaca at 0x7fbbc9207d30>,\n",
              " <__main__.cerdo at 0x7fbbc9206dd0>]"
            ]
          },
          "metadata": {},
          "execution_count": 16
        }
      ]
    },
    {
      "cell_type": "code",
      "source": [
        "for mascota in mascotas:\n",
        "  print(mascota.hable())"
      ],
      "metadata": {
        "colab": {
          "base_uri": "https://localhost:8080/"
        },
        "id": "49yjIKiApjGH",
        "outputId": "e71c71ab-52fd-4335-82ce-d76bea040ee1"
      },
      "execution_count": null,
      "outputs": [
        {
          "output_type": "stream",
          "name": "stdout",
          "text": [
            "woof\n",
            "miau\n",
            "moo\n",
            "oink\n"
          ]
        }
      ]
    },
    {
      "cell_type": "code",
      "source": [
        "class persona:\n",
        "  def __init__(self, nombre, edad):\n",
        "    self.nombre = nombre\n",
        "    self.edad = edad"
      ],
      "metadata": {
        "id": "_ulkeqrPrIZO"
      },
      "execution_count": null,
      "outputs": []
    },
    {
      "cell_type": "code",
      "source": [
        "daniela = persona(\"daniela\", 21)"
      ],
      "metadata": {
        "id": "ir2CWyyIrayG"
      },
      "execution_count": null,
      "outputs": []
    },
    {
      "cell_type": "code",
      "source": [
        "daniela.nombre"
      ],
      "metadata": {
        "colab": {
          "base_uri": "https://localhost:8080/",
          "height": 35
        },
        "id": "3RAIhGiRrpgR",
        "outputId": "f819c5b8-ed8a-495c-e27b-2b1ea2a617c1"
      },
      "execution_count": null,
      "outputs": [
        {
          "output_type": "execute_result",
          "data": {
            "text/plain": [
              "'daniela'"
            ],
            "application/vnd.google.colaboratory.intrinsic+json": {
              "type": "string"
            }
          },
          "metadata": {},
          "execution_count": 21
        }
      ]
    },
    {
      "cell_type": "code",
      "source": [
        "daniela.edad"
      ],
      "metadata": {
        "id": "g_xaFcp9rsYZ",
        "outputId": "8034f4d2-32fa-4df8-d6df-d88a90c4b03a",
        "colab": {
          "base_uri": "https://localhost:8080/"
        }
      },
      "execution_count": null,
      "outputs": [
        {
          "output_type": "execute_result",
          "data": {
            "text/plain": [
              "21"
            ]
          },
          "metadata": {},
          "execution_count": 22
        }
      ]
    }
  ]
}