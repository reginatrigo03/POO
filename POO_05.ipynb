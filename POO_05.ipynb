{
  "nbformat": 4,
  "nbformat_minor": 0,
  "metadata": {
    "colab": {
      "provenance": []
    },
    "kernelspec": {
      "name": "python3",
      "display_name": "Python 3"
    },
    "language_info": {
      "name": "python"
    }
  },
  "cells": [
    {
      "cell_type": "markdown",
      "source": [
        "# Clases/Herencias/Polimorfismos\n",
        "#Definiciones\n"
      ],
      "metadata": {
        "id": "5eGqN7kLPQS8"
      }
    },
    {
      "cell_type": "code",
      "execution_count": 1,
      "metadata": {
        "id": "eODQtzrdPK6m"
      },
      "outputs": [],
      "source": [
        "#Vamos a crear una definición (una función integrada en python)\n",
        "def suma(a,b,c):\n",
        "  x=a+b*c\n",
        "  return x"
      ]
    },
    {
      "cell_type": "code",
      "source": [
        "suma(1,2,3)"
      ],
      "metadata": {
        "colab": {
          "base_uri": "https://localhost:8080/"
        },
        "id": "MlP1SIqdPa4Y",
        "outputId": "0605d35d-dac9-4557-ae59-c0a991fc259e"
      },
      "execution_count": 2,
      "outputs": [
        {
          "output_type": "execute_result",
          "data": {
            "text/plain": [
              "7"
            ]
          },
          "metadata": {},
          "execution_count": 2
        }
      ]
    },
    {
      "cell_type": "code",
      "source": [
        "#Vamos a crear una definición que calcule la inversa de una matriz\n",
        "import numpy as np\n",
        "def inversa(M):\n",
        "  x=np.linalg.inv(M)\n",
        "  return x"
      ],
      "metadata": {
        "id": "3yuan9LSPhJ1"
      },
      "execution_count": 3,
      "outputs": []
    },
    {
      "cell_type": "code",
      "source": [
        "import numpy as np\n",
        "y=np.random.randint(1,20, size=(3,3))\n",
        "np.random.seed(12)\n",
        "#el seed te fija los valores para que no se estén cambiando\n",
        "inversa(y)"
      ],
      "metadata": {
        "colab": {
          "base_uri": "https://localhost:8080/"
        },
        "id": "e7ua8GZoPkzQ",
        "outputId": "6de9719d-5e73-4499-b877-7ba0e4ed8c00"
      },
      "execution_count": 4,
      "outputs": [
        {
          "output_type": "execute_result",
          "data": {
            "text/plain": [
              "array([[-0.69444444,  0.26388889,  1.69444444],\n",
              "       [ 0.86111111, -0.34722222, -1.86111111],\n",
              "       [-0.13888889,  0.15277778,  0.13888889]])"
            ]
          },
          "metadata": {},
          "execution_count": 4
        }
      ]
    },
    {
      "cell_type": "code",
      "source": [
        "\n",
        "y"
      ],
      "metadata": {
        "id": "3xsSMZH2PpgR",
        "outputId": "cf624294-30a6-470f-f5dd-4199035d1423",
        "colab": {
          "base_uri": "https://localhost:8080/"
        }
      },
      "execution_count": 5,
      "outputs": [
        {
          "output_type": "execute_result",
          "data": {
            "text/plain": [
              "array([[17, 16,  7],\n",
              "       [10, 10, 12],\n",
              "       [ 6,  5,  1]])"
            ]
          },
          "metadata": {},
          "execution_count": 5
        }
      ]
    }
  ]
}