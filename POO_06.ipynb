{
  "nbformat": 4,
  "nbformat_minor": 0,
  "metadata": {
    "colab": {
      "provenance": []
    },
    "kernelspec": {
      "name": "python3",
      "display_name": "Python 3"
    },
    "language_info": {
      "name": "python"
    }
  },
  "cells": [
    {
      "cell_type": "markdown",
      "source": [
        "# Condiciones"
      ],
      "metadata": {
        "id": "F8ldNYRkZkzK"
      }
    },
    {
      "cell_type": "code",
      "execution_count": null,
      "metadata": {
        "colab": {
          "base_uri": "https://localhost:8080/"
        },
        "id": "oqwQ78mLZg4t",
        "outputId": "b21757b6-bc21-4520-a2b9-50756b199d81"
      },
      "outputs": [
        {
          "output_type": "stream",
          "name": "stdout",
          "text": [
            "El número es par y es mayor a 10\n"
          ]
        }
      ],
      "source": [
        "# ejemplo\n",
        "\n",
        "x = 34\n",
        "\n",
        "if x % 2 == 0:\n",
        "  if x > 10:\n",
        "    print(\"El número es par y es mayor a 10\")\n",
        "  else:\n",
        "    print(\"El número es par pero no es mayor a 10\")\n",
        "else:\n",
        "    print(\"el número no es par\")"
      ]
    }
  ]
}