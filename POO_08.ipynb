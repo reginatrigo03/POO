{
  "nbformat": 4,
  "nbformat_minor": 0,
  "metadata": {
    "colab": {
      "provenance": []
    },
    "kernelspec": {
      "name": "python3",
      "display_name": "Python 3"
    },
    "language_info": {
      "name": "python"
    }
  },
  "cells": [
    {
      "cell_type": "code",
      "execution_count": 1,
      "metadata": {
        "id": "1CqV9kfqQE3L"
      },
      "outputs": [],
      "source": [
        "# Se crea la clase maestra\n",
        "class Animal():\n",
        "  def __init__(self):\n",
        "    print(\"Animal class creada\")\n",
        "\n",
        "  def guess_who(self):\n",
        "    print(\"Soy un animalito\")\n",
        "\n",
        "  def sleep(self):\n",
        "    print(\"Estoy durmiendo\")"
      ]
    },
    {
      "cell_type": "code",
      "source": [
        "my_animal = Animal()"
      ],
      "metadata": {
        "colab": {
          "base_uri": "https://localhost:8080/"
        },
        "id": "YCUGKQmUQM0j",
        "outputId": "37f5cfbc-df38-4746-9f58-e8bff654fcc3"
      },
      "execution_count": 2,
      "outputs": [
        {
          "output_type": "stream",
          "name": "stdout",
          "text": [
            "Animal class creada\n"
          ]
        }
      ]
    },
    {
      "cell_type": "code",
      "source": [
        "my_animal.sleep()"
      ],
      "metadata": {
        "colab": {
          "base_uri": "https://localhost:8080/"
        },
        "id": "sCUXpB_VQM2D",
        "outputId": "5f5ed4ce-b78a-4f41-f08e-ae705b6f5b7d"
      },
      "execution_count": 3,
      "outputs": [
        {
          "output_type": "stream",
          "name": "stdout",
          "text": [
            "Estoy durmiendo\n"
          ]
        }
      ]
    },
    {
      "cell_type": "code",
      "source": [
        "my_animal.guess_who()"
      ],
      "metadata": {
        "colab": {
          "base_uri": "https://localhost:8080/"
        },
        "id": "TSEkAcyDQUHA",
        "outputId": "46ebfb32-b7b8-4b38-d0fa-06bdb69b1447"
      },
      "execution_count": 4,
      "outputs": [
        {
          "output_type": "stream",
          "name": "stdout",
          "text": [
            "Soy un animalito\n"
          ]
        }
      ]
    },
    {
      "cell_type": "code",
      "source": [
        "# Esta nueva clase se obtiene a partir de la clase maestra, subordinando a ésta\n",
        "# Esto de abajo inicializa funciones dentro de la clase Cat\n",
        "# Animal.__init__ inicializa la clase maestra dentro de la subordinada\n",
        "class Cat(Animal):\n",
        "  def __init__(self):\n",
        "    Animal.__init__(self)\n",
        "    print(\"Cat class creada\")\n",
        "\n",
        "  def guess_who(self):\n",
        "    print(\"Soy un gatito\")\n",
        "\n",
        "  def miau(self):\n",
        "    print(\"Miau!\")"
      ],
      "metadata": {
        "id": "Yi6cSeqAQZ-B"
      },
      "execution_count": 5,
      "outputs": []
    },
    {
      "cell_type": "code",
      "source": [
        "my_cat = Cat()"
      ],
      "metadata": {
        "colab": {
          "base_uri": "https://localhost:8080/"
        },
        "id": "A0G8SMd6QeoN",
        "outputId": "72016bb9-fc6b-45ae-8e12-5979a2d27991"
      },
      "execution_count": 6,
      "outputs": [
        {
          "output_type": "stream",
          "name": "stdout",
          "text": [
            "Animal class creada\n",
            "Cat class creada\n"
          ]
        }
      ]
    },
    {
      "cell_type": "code",
      "source": [
        "my_cat.guess_who()"
      ],
      "metadata": {
        "colab": {
          "base_uri": "https://localhost:8080/"
        },
        "id": "1b-port2QihK",
        "outputId": "7891a8af-d467-47a0-c315-355d65df974f"
      },
      "execution_count": 7,
      "outputs": [
        {
          "output_type": "stream",
          "name": "stdout",
          "text": [
            "Soy un gatito\n"
          ]
        }
      ]
    },
    {
      "cell_type": "code",
      "source": [
        "my_cat.miau()"
      ],
      "metadata": {
        "colab": {
          "base_uri": "https://localhost:8080/"
        },
        "id": "lpRcrzMmQxkK",
        "outputId": "36a480e9-c008-4065-c736-1c28c72aa30d"
      },
      "execution_count": 8,
      "outputs": [
        {
          "output_type": "stream",
          "name": "stdout",
          "text": [
            "Miau!\n"
          ]
        }
      ]
    },
    {
      "cell_type": "code",
      "source": [
        "# Polimorfismo - definiciones con argumentos\n",
        "class Doggie():\n",
        "  def __init__(self,name,raza):\n",
        "    self.name = name\n",
        "    self.raza = raza\n",
        "\n",
        "  def speak(self):\n",
        "    return self.name + \"dice woof\""
      ],
      "metadata": {
        "id": "s9I0V24_Q1pK"
      },
      "execution_count": 9,
      "outputs": []
    },
    {
      "cell_type": "code",
      "source": [
        "class Kitty():\n",
        "  def __init__(self,name,raza):\n",
        "    self.name = name\n",
        "    self.raza = raza\n",
        "\n",
        "  def speak(self):\n",
        "    return self.name + \"dice miau\""
      ],
      "metadata": {
        "id": "-sfSfTZCQ3FW"
      },
      "execution_count": 10,
      "outputs": []
    },
    {
      "cell_type": "code",
      "source": [
        "my_dog = Doggie(\"Albertina \", \"Salchicha\")\n",
        "my_cat = Kitty(\"Firulais \", \"Egipcio\")"
      ],
      "metadata": {
        "id": "2DzJ8TgCQ8eE"
      },
      "execution_count": 11,
      "outputs": []
    },
    {
      "cell_type": "code",
      "source": [
        "my_dog.speak()"
      ],
      "metadata": {
        "colab": {
          "base_uri": "https://localhost:8080/",
          "height": 37
        },
        "id": "fBIpfzVcQ_lo",
        "outputId": "6cfbed39-71fe-4b75-f756-4b471e08f1ed"
      },
      "execution_count": 12,
      "outputs": [
        {
          "output_type": "execute_result",
          "data": {
            "text/plain": [
              "'Albertina dice woof'"
            ],
            "application/vnd.google.colaboratory.intrinsic+json": {
              "type": "string"
            }
          },
          "metadata": {},
          "execution_count": 12
        }
      ]
    },
    {
      "cell_type": "code",
      "source": [
        "my_cat.speak()"
      ],
      "metadata": {
        "colab": {
          "base_uri": "https://localhost:8080/",
          "height": 37
        },
        "id": "wJJOu610RCuJ",
        "outputId": "37635a19-3b51-48cb-f835-34dd3d1c5529"
      },
      "execution_count": 13,
      "outputs": [
        {
          "output_type": "execute_result",
          "data": {
            "text/plain": [
              "'Firulais dice miau'"
            ],
            "application/vnd.google.colaboratory.intrinsic+json": {
              "type": "string"
            }
          },
          "metadata": {},
          "execution_count": 13
        }
      ]
    },
    {
      "cell_type": "code",
      "source": [
        "for pet in [my_dog, my_cat]:\n",
        "  print(type(pet))\n",
        "  print(type(pet.speak()))\n",
        "  print(pet.speak())"
      ],
      "metadata": {
        "colab": {
          "base_uri": "https://localhost:8080/"
        },
        "id": "-YYfIg4URFk4",
        "outputId": "02b6953e-e82b-4e28-c8d0-d34854b48641"
      },
      "execution_count": 14,
      "outputs": [
        {
          "output_type": "stream",
          "name": "stdout",
          "text": [
            "<class '__main__.Doggie'>\n",
            "<class 'str'>\n",
            "Albertina dice woof\n",
            "<class '__main__.Kitty'>\n",
            "<class 'str'>\n",
            "Firulais dice miau\n"
          ]
        }
      ]
    },
    {
      "cell_type": "code",
      "source": [
        "class Messi():\n",
        "  def __init__ (self):\n",
        "    print(\"La clase Messi se ha creado\")\n",
        "\n",
        "  def guess_who(self):\n",
        "    print(\"Yo soy Messi\")\n",
        "\n",
        "  def goles(self):\n",
        "    print(\"Llevo 35 goles de liga del 2014-2020\")"
      ],
      "metadata": {
        "id": "FvzZXU8fRJF8"
      },
      "execution_count": 15,
      "outputs": []
    },
    {
      "cell_type": "code",
      "source": [
        "messi = Messi()"
      ],
      "metadata": {
        "colab": {
          "base_uri": "https://localhost:8080/"
        },
        "id": "TgHE11LMRM9y",
        "outputId": "4e963a02-2c05-4d7d-868b-9b72d9564d82"
      },
      "execution_count": 16,
      "outputs": [
        {
          "output_type": "stream",
          "name": "stdout",
          "text": [
            "La clase Messi se ha creado\n"
          ]
        }
      ]
    },
    {
      "cell_type": "code",
      "source": [
        "messi.guess_who()"
      ],
      "metadata": {
        "colab": {
          "base_uri": "https://localhost:8080/"
        },
        "id": "t-JuunAHRP5B",
        "outputId": "38ee9615-a598-4db8-8ad4-8922bd2c2fb6"
      },
      "execution_count": 17,
      "outputs": [
        {
          "output_type": "stream",
          "name": "stdout",
          "text": [
            "Yo soy Messi\n"
          ]
        }
      ]
    },
    {
      "cell_type": "code",
      "source": [
        "messi.goles()"
      ],
      "metadata": {
        "colab": {
          "base_uri": "https://localhost:8080/"
        },
        "id": "-nCp3okuRTt5",
        "outputId": "cbc49126-7d5d-48c0-b1e6-2e13ae20c221"
      },
      "execution_count": 18,
      "outputs": [
        {
          "output_type": "stream",
          "name": "stdout",
          "text": [
            "Llevo 35 goles de liga del 2014-2020\n"
          ]
        }
      ]
    },
    {
      "cell_type": "code",
      "source": [
        "class Messi_bcn():\n",
        "  def __init__(self, name, goles, campeonatos):\n",
        "    self.name = name\n",
        "    self.goles = goles\n",
        "    self.campeonatos = campeonatos\n",
        "\n",
        "  def nombre(self):\n",
        "    return self.name + \"soy Messi\"\n",
        "\n",
        "  def goles(self):\n",
        "    return self.goles + \"819\"\n",
        "\n",
        "  def campeonatos(self):\n",
        "    return self.campeonatos + \"43 en total\""
      ],
      "metadata": {
        "id": "MGxC21GhRXgY"
      },
      "execution_count": 19,
      "outputs": []
    }
  ]
}