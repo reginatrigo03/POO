{
  "nbformat": 4,
  "nbformat_minor": 0,
  "metadata": {
    "colab": {
      "provenance": []
    },
    "kernelspec": {
      "name": "python3",
      "display_name": "Python 3"
    },
    "language_info": {
      "name": "python"
    }
  },
  "cells": [
    {
      "cell_type": "markdown",
      "source": [
        "#**Tarea 2 Unidad 2**\n",
        "\n",
        "\n",
        "##  Finanzas Cuantitativas`\n",
        "\n",
        "**Profesor**: Dr. Julio Cesar Galindo Lopez\n",
        "\n",
        "![Unknown.jpeg](data:image/jpeg;base64,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)\n",
        "\n",
        "\n",
        "**Integrantes:**\n",
        "\n",
        "\n",
        "Valeria Alvarez Solis\n",
        "\n",
        "Paula Hernandez Matus\n",
        "\n",
        "Regina Trigo Zamora\n",
        "\n",
        "Gisela Marina Villalobos Hellmund"
      ],
      "metadata": {
        "id": "A8VzoGbs2PeL"
      }
    },
    {
      "cell_type": "code",
      "execution_count": 23,
      "metadata": {
        "id": "en81gSFav1rd"
      },
      "outputs": [],
      "source": [
        "#importacion de modulos\n",
        "import pandas as pd\n",
        "import numpy as np\n",
        "import math\n",
        "import matplotlib.pyplot as plt\n",
        "from pandas_datareader import data as pdr\n",
        "import seaborn as sns"
      ]
    },
    {
      "cell_type": "markdown",
      "source": [
        " **1.- Carga la base de datos precios_muestra.csv y calcula lo siguiente:\n",
        "• los rendimientos simples;\n",
        "• la media y la desviación estándar de los rendimientos**"
      ],
      "metadata": {
        "id": "EFjh1aRG2OnJ"
      }
    },
    {
      "cell_type": "code",
      "source": [
        "from google.colab import drive\n",
        "drive.mount(\"/content/drive\")"
      ],
      "metadata": {
        "colab": {
          "base_uri": "https://localhost:8080/",
          "height": 334
        },
        "id": "_IXP4Smw0s4n",
        "outputId": "f85c0a15-8901-4811-b3d3-99eddf83dc4a"
      },
      "execution_count": 24,
      "outputs": [
        {
          "output_type": "error",
          "ename": "MessageError",
          "evalue": "ignored",
          "traceback": [
            "\u001b[0;31m---------------------------------------------------------------------------\u001b[0m",
            "\u001b[0;31mMessageError\u001b[0m                              Traceback (most recent call last)",
            "\u001b[0;32m<ipython-input-24-bf1647b42bbd>\u001b[0m in \u001b[0;36m<cell line: 2>\u001b[0;34m()\u001b[0m\n\u001b[1;32m      1\u001b[0m \u001b[0;32mfrom\u001b[0m \u001b[0mgoogle\u001b[0m\u001b[0;34m.\u001b[0m\u001b[0mcolab\u001b[0m \u001b[0;32mimport\u001b[0m \u001b[0mdrive\u001b[0m\u001b[0;34m\u001b[0m\u001b[0;34m\u001b[0m\u001b[0m\n\u001b[0;32m----> 2\u001b[0;31m \u001b[0mdrive\u001b[0m\u001b[0;34m.\u001b[0m\u001b[0mmount\u001b[0m\u001b[0;34m(\u001b[0m\u001b[0;34m\"/content/drive\"\u001b[0m\u001b[0;34m)\u001b[0m\u001b[0;34m\u001b[0m\u001b[0;34m\u001b[0m\u001b[0m\n\u001b[0m",
            "\u001b[0;32m/usr/local/lib/python3.10/dist-packages/google/colab/drive.py\u001b[0m in \u001b[0;36mmount\u001b[0;34m(mountpoint, force_remount, timeout_ms, readonly)\u001b[0m\n\u001b[1;32m    101\u001b[0m \u001b[0;32mdef\u001b[0m \u001b[0mmount\u001b[0m\u001b[0;34m(\u001b[0m\u001b[0mmountpoint\u001b[0m\u001b[0;34m,\u001b[0m \u001b[0mforce_remount\u001b[0m\u001b[0;34m=\u001b[0m\u001b[0;32mFalse\u001b[0m\u001b[0;34m,\u001b[0m \u001b[0mtimeout_ms\u001b[0m\u001b[0;34m=\u001b[0m\u001b[0;36m120000\u001b[0m\u001b[0;34m,\u001b[0m \u001b[0mreadonly\u001b[0m\u001b[0;34m=\u001b[0m\u001b[0;32mFalse\u001b[0m\u001b[0;34m)\u001b[0m\u001b[0;34m:\u001b[0m\u001b[0;34m\u001b[0m\u001b[0;34m\u001b[0m\u001b[0m\n\u001b[1;32m    102\u001b[0m   \u001b[0;34m\"\"\"Mount your Google Drive at the specified mountpoint path.\"\"\"\u001b[0m\u001b[0;34m\u001b[0m\u001b[0;34m\u001b[0m\u001b[0m\n\u001b[0;32m--> 103\u001b[0;31m   return _mount(\n\u001b[0m\u001b[1;32m    104\u001b[0m       \u001b[0mmountpoint\u001b[0m\u001b[0;34m,\u001b[0m\u001b[0;34m\u001b[0m\u001b[0;34m\u001b[0m\u001b[0m\n\u001b[1;32m    105\u001b[0m       \u001b[0mforce_remount\u001b[0m\u001b[0;34m=\u001b[0m\u001b[0mforce_remount\u001b[0m\u001b[0;34m,\u001b[0m\u001b[0;34m\u001b[0m\u001b[0;34m\u001b[0m\u001b[0m\n",
            "\u001b[0;32m/usr/local/lib/python3.10/dist-packages/google/colab/drive.py\u001b[0m in \u001b[0;36m_mount\u001b[0;34m(mountpoint, force_remount, timeout_ms, ephemeral, readonly)\u001b[0m\n\u001b[1;32m    130\u001b[0m   )\n\u001b[1;32m    131\u001b[0m   \u001b[0;32mif\u001b[0m \u001b[0mephemeral\u001b[0m\u001b[0;34m:\u001b[0m\u001b[0;34m\u001b[0m\u001b[0;34m\u001b[0m\u001b[0m\n\u001b[0;32m--> 132\u001b[0;31m     _message.blocking_request(\n\u001b[0m\u001b[1;32m    133\u001b[0m         \u001b[0;34m'request_auth'\u001b[0m\u001b[0;34m,\u001b[0m \u001b[0mrequest\u001b[0m\u001b[0;34m=\u001b[0m\u001b[0;34m{\u001b[0m\u001b[0;34m'authType'\u001b[0m\u001b[0;34m:\u001b[0m \u001b[0;34m'dfs_ephemeral'\u001b[0m\u001b[0;34m}\u001b[0m\u001b[0;34m,\u001b[0m \u001b[0mtimeout_sec\u001b[0m\u001b[0;34m=\u001b[0m\u001b[0;32mNone\u001b[0m\u001b[0;34m\u001b[0m\u001b[0;34m\u001b[0m\u001b[0m\n\u001b[1;32m    134\u001b[0m     )\n",
            "\u001b[0;32m/usr/local/lib/python3.10/dist-packages/google/colab/_message.py\u001b[0m in \u001b[0;36mblocking_request\u001b[0;34m(request_type, request, timeout_sec, parent)\u001b[0m\n\u001b[1;32m    174\u001b[0m       \u001b[0mrequest_type\u001b[0m\u001b[0;34m,\u001b[0m \u001b[0mrequest\u001b[0m\u001b[0;34m,\u001b[0m \u001b[0mparent\u001b[0m\u001b[0;34m=\u001b[0m\u001b[0mparent\u001b[0m\u001b[0;34m,\u001b[0m \u001b[0mexpect_reply\u001b[0m\u001b[0;34m=\u001b[0m\u001b[0;32mTrue\u001b[0m\u001b[0;34m\u001b[0m\u001b[0;34m\u001b[0m\u001b[0m\n\u001b[1;32m    175\u001b[0m   )\n\u001b[0;32m--> 176\u001b[0;31m   \u001b[0;32mreturn\u001b[0m \u001b[0mread_reply_from_input\u001b[0m\u001b[0;34m(\u001b[0m\u001b[0mrequest_id\u001b[0m\u001b[0;34m,\u001b[0m \u001b[0mtimeout_sec\u001b[0m\u001b[0;34m)\u001b[0m\u001b[0;34m\u001b[0m\u001b[0;34m\u001b[0m\u001b[0m\n\u001b[0m",
            "\u001b[0;32m/usr/local/lib/python3.10/dist-packages/google/colab/_message.py\u001b[0m in \u001b[0;36mread_reply_from_input\u001b[0;34m(message_id, timeout_sec)\u001b[0m\n\u001b[1;32m    101\u001b[0m     ):\n\u001b[1;32m    102\u001b[0m       \u001b[0;32mif\u001b[0m \u001b[0;34m'error'\u001b[0m \u001b[0;32min\u001b[0m \u001b[0mreply\u001b[0m\u001b[0;34m:\u001b[0m\u001b[0;34m\u001b[0m\u001b[0;34m\u001b[0m\u001b[0m\n\u001b[0;32m--> 103\u001b[0;31m         \u001b[0;32mraise\u001b[0m \u001b[0mMessageError\u001b[0m\u001b[0;34m(\u001b[0m\u001b[0mreply\u001b[0m\u001b[0;34m[\u001b[0m\u001b[0;34m'error'\u001b[0m\u001b[0;34m]\u001b[0m\u001b[0;34m)\u001b[0m\u001b[0;34m\u001b[0m\u001b[0;34m\u001b[0m\u001b[0m\n\u001b[0m\u001b[1;32m    104\u001b[0m       \u001b[0;32mreturn\u001b[0m \u001b[0mreply\u001b[0m\u001b[0;34m.\u001b[0m\u001b[0mget\u001b[0m\u001b[0;34m(\u001b[0m\u001b[0;34m'data'\u001b[0m\u001b[0;34m,\u001b[0m \u001b[0;32mNone\u001b[0m\u001b[0;34m)\u001b[0m\u001b[0;34m\u001b[0m\u001b[0;34m\u001b[0m\u001b[0m\n\u001b[1;32m    105\u001b[0m \u001b[0;34m\u001b[0m\u001b[0m\n",
            "\u001b[0;31mMessageError\u001b[0m: Error: credential propagation was unsuccessful"
          ]
        }
      ]
    },
    {
      "cell_type": "code",
      "source": [
        "d=pd.read_csv(\"/content/drive/MyDrive/POODB/precios_muestra.csv\") # se descarga de nuestro Google Drive, del archivo POODB la base de datos \"precios_muestra\""
      ],
      "metadata": {
        "id": "FOh2I5H61kDa"
      },
      "execution_count": null,
      "outputs": []
    },
    {
      "cell_type": "code",
      "source": [
        "d # base de datos \"precios_muestra\""
      ],
      "metadata": {
        "colab": {
          "base_uri": "https://localhost:8080/",
          "height": 457
        },
        "id": "16JapUUr2EaH",
        "outputId": "9cd63ed5-3e48-4662-c8f5-860d3bb0e054"
      },
      "execution_count": null,
      "outputs": [
        {
          "output_type": "execute_result",
          "data": {
            "text/plain": [
              "      BLUE   ORANGE\n",
              "0   8.7000  10.6600\n",
              "1   8.9055  11.0828\n",
              "2   8.7113  10.7100\n",
              "3   8.4346  11.5907\n",
              "4   8.7254  12.1070\n",
              "5   9.0551  11.7876\n",
              "6   8.9514  11.2078\n",
              "7   9.2439  12.5192\n",
              "8   9.1276  13.3624\n",
              "9   9.3976  14.4080\n",
              "10  9.4554  11.9837\n",
              "11  9.5704  12.2718\n",
              "12  9.7728  11.5892"
            ],
            "text/html": [
              "\n",
              "  <div id=\"df-71a50fa5-0ada-4113-ad26-ea02e5036489\" class=\"colab-df-container\">\n",
              "    <div>\n",
              "<style scoped>\n",
              "    .dataframe tbody tr th:only-of-type {\n",
              "        vertical-align: middle;\n",
              "    }\n",
              "\n",
              "    .dataframe tbody tr th {\n",
              "        vertical-align: top;\n",
              "    }\n",
              "\n",
              "    .dataframe thead th {\n",
              "        text-align: right;\n",
              "    }\n",
              "</style>\n",
              "<table border=\"1\" class=\"dataframe\">\n",
              "  <thead>\n",
              "    <tr style=\"text-align: right;\">\n",
              "      <th></th>\n",
              "      <th>BLUE</th>\n",
              "      <th>ORANGE</th>\n",
              "    </tr>\n",
              "  </thead>\n",
              "  <tbody>\n",
              "    <tr>\n",
              "      <th>0</th>\n",
              "      <td>8.7000</td>\n",
              "      <td>10.6600</td>\n",
              "    </tr>\n",
              "    <tr>\n",
              "      <th>1</th>\n",
              "      <td>8.9055</td>\n",
              "      <td>11.0828</td>\n",
              "    </tr>\n",
              "    <tr>\n",
              "      <th>2</th>\n",
              "      <td>8.7113</td>\n",
              "      <td>10.7100</td>\n",
              "    </tr>\n",
              "    <tr>\n",
              "      <th>3</th>\n",
              "      <td>8.4346</td>\n",
              "      <td>11.5907</td>\n",
              "    </tr>\n",
              "    <tr>\n",
              "      <th>4</th>\n",
              "      <td>8.7254</td>\n",
              "      <td>12.1070</td>\n",
              "    </tr>\n",
              "    <tr>\n",
              "      <th>5</th>\n",
              "      <td>9.0551</td>\n",
              "      <td>11.7876</td>\n",
              "    </tr>\n",
              "    <tr>\n",
              "      <th>6</th>\n",
              "      <td>8.9514</td>\n",
              "      <td>11.2078</td>\n",
              "    </tr>\n",
              "    <tr>\n",
              "      <th>7</th>\n",
              "      <td>9.2439</td>\n",
              "      <td>12.5192</td>\n",
              "    </tr>\n",
              "    <tr>\n",
              "      <th>8</th>\n",
              "      <td>9.1276</td>\n",
              "      <td>13.3624</td>\n",
              "    </tr>\n",
              "    <tr>\n",
              "      <th>9</th>\n",
              "      <td>9.3976</td>\n",
              "      <td>14.4080</td>\n",
              "    </tr>\n",
              "    <tr>\n",
              "      <th>10</th>\n",
              "      <td>9.4554</td>\n",
              "      <td>11.9837</td>\n",
              "    </tr>\n",
              "    <tr>\n",
              "      <th>11</th>\n",
              "      <td>9.5704</td>\n",
              "      <td>12.2718</td>\n",
              "    </tr>\n",
              "    <tr>\n",
              "      <th>12</th>\n",
              "      <td>9.7728</td>\n",
              "      <td>11.5892</td>\n",
              "    </tr>\n",
              "  </tbody>\n",
              "</table>\n",
              "</div>\n",
              "    <div class=\"colab-df-buttons\">\n",
              "\n",
              "  <div class=\"colab-df-container\">\n",
              "    <button class=\"colab-df-convert\" onclick=\"convertToInteractive('df-71a50fa5-0ada-4113-ad26-ea02e5036489')\"\n",
              "            title=\"Convert this dataframe to an interactive table.\"\n",
              "            style=\"display:none;\">\n",
              "\n",
              "  <svg xmlns=\"http://www.w3.org/2000/svg\" height=\"24px\" viewBox=\"0 -960 960 960\">\n",
              "    <path d=\"M120-120v-720h720v720H120Zm60-500h600v-160H180v160Zm220 220h160v-160H400v160Zm0 220h160v-160H400v160ZM180-400h160v-160H180v160Zm440 0h160v-160H620v160ZM180-180h160v-160H180v160Zm440 0h160v-160H620v160Z\"/>\n",
              "  </svg>\n",
              "    </button>\n",
              "\n",
              "  <style>\n",
              "    .colab-df-container {\n",
              "      display:flex;\n",
              "      gap: 12px;\n",
              "    }\n",
              "\n",
              "    .colab-df-convert {\n",
              "      background-color: #E8F0FE;\n",
              "      border: none;\n",
              "      border-radius: 50%;\n",
              "      cursor: pointer;\n",
              "      display: none;\n",
              "      fill: #1967D2;\n",
              "      height: 32px;\n",
              "      padding: 0 0 0 0;\n",
              "      width: 32px;\n",
              "    }\n",
              "\n",
              "    .colab-df-convert:hover {\n",
              "      background-color: #E2EBFA;\n",
              "      box-shadow: 0px 1px 2px rgba(60, 64, 67, 0.3), 0px 1px 3px 1px rgba(60, 64, 67, 0.15);\n",
              "      fill: #174EA6;\n",
              "    }\n",
              "\n",
              "    .colab-df-buttons div {\n",
              "      margin-bottom: 4px;\n",
              "    }\n",
              "\n",
              "    [theme=dark] .colab-df-convert {\n",
              "      background-color: #3B4455;\n",
              "      fill: #D2E3FC;\n",
              "    }\n",
              "\n",
              "    [theme=dark] .colab-df-convert:hover {\n",
              "      background-color: #434B5C;\n",
              "      box-shadow: 0px 1px 3px 1px rgba(0, 0, 0, 0.15);\n",
              "      filter: drop-shadow(0px 1px 2px rgba(0, 0, 0, 0.3));\n",
              "      fill: #FFFFFF;\n",
              "    }\n",
              "  </style>\n",
              "\n",
              "    <script>\n",
              "      const buttonEl =\n",
              "        document.querySelector('#df-71a50fa5-0ada-4113-ad26-ea02e5036489 button.colab-df-convert');\n",
              "      buttonEl.style.display =\n",
              "        google.colab.kernel.accessAllowed ? 'block' : 'none';\n",
              "\n",
              "      async function convertToInteractive(key) {\n",
              "        const element = document.querySelector('#df-71a50fa5-0ada-4113-ad26-ea02e5036489');\n",
              "        const dataTable =\n",
              "          await google.colab.kernel.invokeFunction('convertToInteractive',\n",
              "                                                    [key], {});\n",
              "        if (!dataTable) return;\n",
              "\n",
              "        const docLinkHtml = 'Like what you see? Visit the ' +\n",
              "          '<a target=\"_blank\" href=https://colab.research.google.com/notebooks/data_table.ipynb>data table notebook</a>'\n",
              "          + ' to learn more about interactive tables.';\n",
              "        element.innerHTML = '';\n",
              "        dataTable['output_type'] = 'display_data';\n",
              "        await google.colab.output.renderOutput(dataTable, element);\n",
              "        const docLink = document.createElement('div');\n",
              "        docLink.innerHTML = docLinkHtml;\n",
              "        element.appendChild(docLink);\n",
              "      }\n",
              "    </script>\n",
              "  </div>\n",
              "\n",
              "\n",
              "<div id=\"df-f0e61d2c-806e-48ba-b465-4eea44d193a3\">\n",
              "  <button class=\"colab-df-quickchart\" onclick=\"quickchart('df-f0e61d2c-806e-48ba-b465-4eea44d193a3')\"\n",
              "            title=\"Suggest charts.\"\n",
              "            style=\"display:none;\">\n",
              "\n",
              "<svg xmlns=\"http://www.w3.org/2000/svg\" height=\"24px\"viewBox=\"0 0 24 24\"\n",
              "     width=\"24px\">\n",
              "    <g>\n",
              "        <path d=\"M19 3H5c-1.1 0-2 .9-2 2v14c0 1.1.9 2 2 2h14c1.1 0 2-.9 2-2V5c0-1.1-.9-2-2-2zM9 17H7v-7h2v7zm4 0h-2V7h2v10zm4 0h-2v-4h2v4z\"/>\n",
              "    </g>\n",
              "</svg>\n",
              "  </button>\n",
              "\n",
              "<style>\n",
              "  .colab-df-quickchart {\n",
              "      --bg-color: #E8F0FE;\n",
              "      --fill-color: #1967D2;\n",
              "      --hover-bg-color: #E2EBFA;\n",
              "      --hover-fill-color: #174EA6;\n",
              "      --disabled-fill-color: #AAA;\n",
              "      --disabled-bg-color: #DDD;\n",
              "  }\n",
              "\n",
              "  [theme=dark] .colab-df-quickchart {\n",
              "      --bg-color: #3B4455;\n",
              "      --fill-color: #D2E3FC;\n",
              "      --hover-bg-color: #434B5C;\n",
              "      --hover-fill-color: #FFFFFF;\n",
              "      --disabled-bg-color: #3B4455;\n",
              "      --disabled-fill-color: #666;\n",
              "  }\n",
              "\n",
              "  .colab-df-quickchart {\n",
              "    background-color: var(--bg-color);\n",
              "    border: none;\n",
              "    border-radius: 50%;\n",
              "    cursor: pointer;\n",
              "    display: none;\n",
              "    fill: var(--fill-color);\n",
              "    height: 32px;\n",
              "    padding: 0;\n",
              "    width: 32px;\n",
              "  }\n",
              "\n",
              "  .colab-df-quickchart:hover {\n",
              "    background-color: var(--hover-bg-color);\n",
              "    box-shadow: 0 1px 2px rgba(60, 64, 67, 0.3), 0 1px 3px 1px rgba(60, 64, 67, 0.15);\n",
              "    fill: var(--button-hover-fill-color);\n",
              "  }\n",
              "\n",
              "  .colab-df-quickchart-complete:disabled,\n",
              "  .colab-df-quickchart-complete:disabled:hover {\n",
              "    background-color: var(--disabled-bg-color);\n",
              "    fill: var(--disabled-fill-color);\n",
              "    box-shadow: none;\n",
              "  }\n",
              "\n",
              "  .colab-df-spinner {\n",
              "    border: 2px solid var(--fill-color);\n",
              "    border-color: transparent;\n",
              "    border-bottom-color: var(--fill-color);\n",
              "    animation:\n",
              "      spin 1s steps(1) infinite;\n",
              "  }\n",
              "\n",
              "  @keyframes spin {\n",
              "    0% {\n",
              "      border-color: transparent;\n",
              "      border-bottom-color: var(--fill-color);\n",
              "      border-left-color: var(--fill-color);\n",
              "    }\n",
              "    20% {\n",
              "      border-color: transparent;\n",
              "      border-left-color: var(--fill-color);\n",
              "      border-top-color: var(--fill-color);\n",
              "    }\n",
              "    30% {\n",
              "      border-color: transparent;\n",
              "      border-left-color: var(--fill-color);\n",
              "      border-top-color: var(--fill-color);\n",
              "      border-right-color: var(--fill-color);\n",
              "    }\n",
              "    40% {\n",
              "      border-color: transparent;\n",
              "      border-right-color: var(--fill-color);\n",
              "      border-top-color: var(--fill-color);\n",
              "    }\n",
              "    60% {\n",
              "      border-color: transparent;\n",
              "      border-right-color: var(--fill-color);\n",
              "    }\n",
              "    80% {\n",
              "      border-color: transparent;\n",
              "      border-right-color: var(--fill-color);\n",
              "      border-bottom-color: var(--fill-color);\n",
              "    }\n",
              "    90% {\n",
              "      border-color: transparent;\n",
              "      border-bottom-color: var(--fill-color);\n",
              "    }\n",
              "  }\n",
              "</style>\n",
              "\n",
              "  <script>\n",
              "    async function quickchart(key) {\n",
              "      const quickchartButtonEl =\n",
              "        document.querySelector('#' + key + ' button');\n",
              "      quickchartButtonEl.disabled = true;  // To prevent multiple clicks.\n",
              "      quickchartButtonEl.classList.add('colab-df-spinner');\n",
              "      try {\n",
              "        const charts = await google.colab.kernel.invokeFunction(\n",
              "            'suggestCharts', [key], {});\n",
              "      } catch (error) {\n",
              "        console.error('Error during call to suggestCharts:', error);\n",
              "      }\n",
              "      quickchartButtonEl.classList.remove('colab-df-spinner');\n",
              "      quickchartButtonEl.classList.add('colab-df-quickchart-complete');\n",
              "    }\n",
              "    (() => {\n",
              "      let quickchartButtonEl =\n",
              "        document.querySelector('#df-f0e61d2c-806e-48ba-b465-4eea44d193a3 button');\n",
              "      quickchartButtonEl.style.display =\n",
              "        google.colab.kernel.accessAllowed ? 'block' : 'none';\n",
              "    })();\n",
              "  </script>\n",
              "</div>\n",
              "    </div>\n",
              "  </div>\n"
            ]
          },
          "metadata": {},
          "execution_count": 4
        }
      ]
    },
    {
      "cell_type": "code",
      "source": [
        "rendimientos_simple=d.pct_change().dropna() # con la funcion .pct_change().dropna() recuperamos los rendimientos simples de la base de datos\n",
        "rendimientos_simple"
      ],
      "metadata": {
        "colab": {
          "base_uri": "https://localhost:8080/",
          "height": 425
        },
        "id": "dQMxY8lg2vZz",
        "outputId": "c357ccf2-d2de-4bf7-a938-aa28647c189c"
      },
      "execution_count": null,
      "outputs": [
        {
          "output_type": "execute_result",
          "data": {
            "text/plain": [
              "        BLUE    ORANGE\n",
              "1   0.023621  0.039662\n",
              "2  -0.021807 -0.033638\n",
              "3  -0.031763  0.082232\n",
              "4   0.034477  0.044544\n",
              "5   0.037786 -0.026381\n",
              "6  -0.011452 -0.049187\n",
              "7   0.032676  0.117008\n",
              "8  -0.012581  0.067353\n",
              "9   0.029581  0.078249\n",
              "10  0.006151 -0.168261\n",
              "11  0.012162  0.024041\n",
              "12  0.021149 -0.055623"
            ],
            "text/html": [
              "\n",
              "  <div id=\"df-7aec8406-4bab-43bb-b752-dda876c5248d\" class=\"colab-df-container\">\n",
              "    <div>\n",
              "<style scoped>\n",
              "    .dataframe tbody tr th:only-of-type {\n",
              "        vertical-align: middle;\n",
              "    }\n",
              "\n",
              "    .dataframe tbody tr th {\n",
              "        vertical-align: top;\n",
              "    }\n",
              "\n",
              "    .dataframe thead th {\n",
              "        text-align: right;\n",
              "    }\n",
              "</style>\n",
              "<table border=\"1\" class=\"dataframe\">\n",
              "  <thead>\n",
              "    <tr style=\"text-align: right;\">\n",
              "      <th></th>\n",
              "      <th>BLUE</th>\n",
              "      <th>ORANGE</th>\n",
              "    </tr>\n",
              "  </thead>\n",
              "  <tbody>\n",
              "    <tr>\n",
              "      <th>1</th>\n",
              "      <td>0.023621</td>\n",
              "      <td>0.039662</td>\n",
              "    </tr>\n",
              "    <tr>\n",
              "      <th>2</th>\n",
              "      <td>-0.021807</td>\n",
              "      <td>-0.033638</td>\n",
              "    </tr>\n",
              "    <tr>\n",
              "      <th>3</th>\n",
              "      <td>-0.031763</td>\n",
              "      <td>0.082232</td>\n",
              "    </tr>\n",
              "    <tr>\n",
              "      <th>4</th>\n",
              "      <td>0.034477</td>\n",
              "      <td>0.044544</td>\n",
              "    </tr>\n",
              "    <tr>\n",
              "      <th>5</th>\n",
              "      <td>0.037786</td>\n",
              "      <td>-0.026381</td>\n",
              "    </tr>\n",
              "    <tr>\n",
              "      <th>6</th>\n",
              "      <td>-0.011452</td>\n",
              "      <td>-0.049187</td>\n",
              "    </tr>\n",
              "    <tr>\n",
              "      <th>7</th>\n",
              "      <td>0.032676</td>\n",
              "      <td>0.117008</td>\n",
              "    </tr>\n",
              "    <tr>\n",
              "      <th>8</th>\n",
              "      <td>-0.012581</td>\n",
              "      <td>0.067353</td>\n",
              "    </tr>\n",
              "    <tr>\n",
              "      <th>9</th>\n",
              "      <td>0.029581</td>\n",
              "      <td>0.078249</td>\n",
              "    </tr>\n",
              "    <tr>\n",
              "      <th>10</th>\n",
              "      <td>0.006151</td>\n",
              "      <td>-0.168261</td>\n",
              "    </tr>\n",
              "    <tr>\n",
              "      <th>11</th>\n",
              "      <td>0.012162</td>\n",
              "      <td>0.024041</td>\n",
              "    </tr>\n",
              "    <tr>\n",
              "      <th>12</th>\n",
              "      <td>0.021149</td>\n",
              "      <td>-0.055623</td>\n",
              "    </tr>\n",
              "  </tbody>\n",
              "</table>\n",
              "</div>\n",
              "    <div class=\"colab-df-buttons\">\n",
              "\n",
              "  <div class=\"colab-df-container\">\n",
              "    <button class=\"colab-df-convert\" onclick=\"convertToInteractive('df-7aec8406-4bab-43bb-b752-dda876c5248d')\"\n",
              "            title=\"Convert this dataframe to an interactive table.\"\n",
              "            style=\"display:none;\">\n",
              "\n",
              "  <svg xmlns=\"http://www.w3.org/2000/svg\" height=\"24px\" viewBox=\"0 -960 960 960\">\n",
              "    <path d=\"M120-120v-720h720v720H120Zm60-500h600v-160H180v160Zm220 220h160v-160H400v160Zm0 220h160v-160H400v160ZM180-400h160v-160H180v160Zm440 0h160v-160H620v160ZM180-180h160v-160H180v160Zm440 0h160v-160H620v160Z\"/>\n",
              "  </svg>\n",
              "    </button>\n",
              "\n",
              "  <style>\n",
              "    .colab-df-container {\n",
              "      display:flex;\n",
              "      gap: 12px;\n",
              "    }\n",
              "\n",
              "    .colab-df-convert {\n",
              "      background-color: #E8F0FE;\n",
              "      border: none;\n",
              "      border-radius: 50%;\n",
              "      cursor: pointer;\n",
              "      display: none;\n",
              "      fill: #1967D2;\n",
              "      height: 32px;\n",
              "      padding: 0 0 0 0;\n",
              "      width: 32px;\n",
              "    }\n",
              "\n",
              "    .colab-df-convert:hover {\n",
              "      background-color: #E2EBFA;\n",
              "      box-shadow: 0px 1px 2px rgba(60, 64, 67, 0.3), 0px 1px 3px 1px rgba(60, 64, 67, 0.15);\n",
              "      fill: #174EA6;\n",
              "    }\n",
              "\n",
              "    .colab-df-buttons div {\n",
              "      margin-bottom: 4px;\n",
              "    }\n",
              "\n",
              "    [theme=dark] .colab-df-convert {\n",
              "      background-color: #3B4455;\n",
              "      fill: #D2E3FC;\n",
              "    }\n",
              "\n",
              "    [theme=dark] .colab-df-convert:hover {\n",
              "      background-color: #434B5C;\n",
              "      box-shadow: 0px 1px 3px 1px rgba(0, 0, 0, 0.15);\n",
              "      filter: drop-shadow(0px 1px 2px rgba(0, 0, 0, 0.3));\n",
              "      fill: #FFFFFF;\n",
              "    }\n",
              "  </style>\n",
              "\n",
              "    <script>\n",
              "      const buttonEl =\n",
              "        document.querySelector('#df-7aec8406-4bab-43bb-b752-dda876c5248d button.colab-df-convert');\n",
              "      buttonEl.style.display =\n",
              "        google.colab.kernel.accessAllowed ? 'block' : 'none';\n",
              "\n",
              "      async function convertToInteractive(key) {\n",
              "        const element = document.querySelector('#df-7aec8406-4bab-43bb-b752-dda876c5248d');\n",
              "        const dataTable =\n",
              "          await google.colab.kernel.invokeFunction('convertToInteractive',\n",
              "                                                    [key], {});\n",
              "        if (!dataTable) return;\n",
              "\n",
              "        const docLinkHtml = 'Like what you see? Visit the ' +\n",
              "          '<a target=\"_blank\" href=https://colab.research.google.com/notebooks/data_table.ipynb>data table notebook</a>'\n",
              "          + ' to learn more about interactive tables.';\n",
              "        element.innerHTML = '';\n",
              "        dataTable['output_type'] = 'display_data';\n",
              "        await google.colab.output.renderOutput(dataTable, element);\n",
              "        const docLink = document.createElement('div');\n",
              "        docLink.innerHTML = docLinkHtml;\n",
              "        element.appendChild(docLink);\n",
              "      }\n",
              "    </script>\n",
              "  </div>\n",
              "\n",
              "\n",
              "<div id=\"df-2d9643b9-38fd-470b-8efa-f4555e748b1b\">\n",
              "  <button class=\"colab-df-quickchart\" onclick=\"quickchart('df-2d9643b9-38fd-470b-8efa-f4555e748b1b')\"\n",
              "            title=\"Suggest charts.\"\n",
              "            style=\"display:none;\">\n",
              "\n",
              "<svg xmlns=\"http://www.w3.org/2000/svg\" height=\"24px\"viewBox=\"0 0 24 24\"\n",
              "     width=\"24px\">\n",
              "    <g>\n",
              "        <path d=\"M19 3H5c-1.1 0-2 .9-2 2v14c0 1.1.9 2 2 2h14c1.1 0 2-.9 2-2V5c0-1.1-.9-2-2-2zM9 17H7v-7h2v7zm4 0h-2V7h2v10zm4 0h-2v-4h2v4z\"/>\n",
              "    </g>\n",
              "</svg>\n",
              "  </button>\n",
              "\n",
              "<style>\n",
              "  .colab-df-quickchart {\n",
              "      --bg-color: #E8F0FE;\n",
              "      --fill-color: #1967D2;\n",
              "      --hover-bg-color: #E2EBFA;\n",
              "      --hover-fill-color: #174EA6;\n",
              "      --disabled-fill-color: #AAA;\n",
              "      --disabled-bg-color: #DDD;\n",
              "  }\n",
              "\n",
              "  [theme=dark] .colab-df-quickchart {\n",
              "      --bg-color: #3B4455;\n",
              "      --fill-color: #D2E3FC;\n",
              "      --hover-bg-color: #434B5C;\n",
              "      --hover-fill-color: #FFFFFF;\n",
              "      --disabled-bg-color: #3B4455;\n",
              "      --disabled-fill-color: #666;\n",
              "  }\n",
              "\n",
              "  .colab-df-quickchart {\n",
              "    background-color: var(--bg-color);\n",
              "    border: none;\n",
              "    border-radius: 50%;\n",
              "    cursor: pointer;\n",
              "    display: none;\n",
              "    fill: var(--fill-color);\n",
              "    height: 32px;\n",
              "    padding: 0;\n",
              "    width: 32px;\n",
              "  }\n",
              "\n",
              "  .colab-df-quickchart:hover {\n",
              "    background-color: var(--hover-bg-color);\n",
              "    box-shadow: 0 1px 2px rgba(60, 64, 67, 0.3), 0 1px 3px 1px rgba(60, 64, 67, 0.15);\n",
              "    fill: var(--button-hover-fill-color);\n",
              "  }\n",
              "\n",
              "  .colab-df-quickchart-complete:disabled,\n",
              "  .colab-df-quickchart-complete:disabled:hover {\n",
              "    background-color: var(--disabled-bg-color);\n",
              "    fill: var(--disabled-fill-color);\n",
              "    box-shadow: none;\n",
              "  }\n",
              "\n",
              "  .colab-df-spinner {\n",
              "    border: 2px solid var(--fill-color);\n",
              "    border-color: transparent;\n",
              "    border-bottom-color: var(--fill-color);\n",
              "    animation:\n",
              "      spin 1s steps(1) infinite;\n",
              "  }\n",
              "\n",
              "  @keyframes spin {\n",
              "    0% {\n",
              "      border-color: transparent;\n",
              "      border-bottom-color: var(--fill-color);\n",
              "      border-left-color: var(--fill-color);\n",
              "    }\n",
              "    20% {\n",
              "      border-color: transparent;\n",
              "      border-left-color: var(--fill-color);\n",
              "      border-top-color: var(--fill-color);\n",
              "    }\n",
              "    30% {\n",
              "      border-color: transparent;\n",
              "      border-left-color: var(--fill-color);\n",
              "      border-top-color: var(--fill-color);\n",
              "      border-right-color: var(--fill-color);\n",
              "    }\n",
              "    40% {\n",
              "      border-color: transparent;\n",
              "      border-right-color: var(--fill-color);\n",
              "      border-top-color: var(--fill-color);\n",
              "    }\n",
              "    60% {\n",
              "      border-color: transparent;\n",
              "      border-right-color: var(--fill-color);\n",
              "    }\n",
              "    80% {\n",
              "      border-color: transparent;\n",
              "      border-right-color: var(--fill-color);\n",
              "      border-bottom-color: var(--fill-color);\n",
              "    }\n",
              "    90% {\n",
              "      border-color: transparent;\n",
              "      border-bottom-color: var(--fill-color);\n",
              "    }\n",
              "  }\n",
              "</style>\n",
              "\n",
              "  <script>\n",
              "    async function quickchart(key) {\n",
              "      const quickchartButtonEl =\n",
              "        document.querySelector('#' + key + ' button');\n",
              "      quickchartButtonEl.disabled = true;  // To prevent multiple clicks.\n",
              "      quickchartButtonEl.classList.add('colab-df-spinner');\n",
              "      try {\n",
              "        const charts = await google.colab.kernel.invokeFunction(\n",
              "            'suggestCharts', [key], {});\n",
              "      } catch (error) {\n",
              "        console.error('Error during call to suggestCharts:', error);\n",
              "      }\n",
              "      quickchartButtonEl.classList.remove('colab-df-spinner');\n",
              "      quickchartButtonEl.classList.add('colab-df-quickchart-complete');\n",
              "    }\n",
              "    (() => {\n",
              "      let quickchartButtonEl =\n",
              "        document.querySelector('#df-2d9643b9-38fd-470b-8efa-f4555e748b1b button');\n",
              "      quickchartButtonEl.style.display =\n",
              "        google.colab.kernel.accessAllowed ? 'block' : 'none';\n",
              "    })();\n",
              "  </script>\n",
              "</div>\n",
              "    </div>\n",
              "  </div>\n"
            ]
          },
          "metadata": {},
          "execution_count": 5
        }
      ]
    },
    {
      "cell_type": "code",
      "source": [
        "rendimientos_simple.describe() # con esta funcion se describen los datos de los rendimientos recuperados"
      ],
      "metadata": {
        "colab": {
          "base_uri": "https://localhost:8080/",
          "height": 300
        },
        "id": "7GPPXhXK4XsT",
        "outputId": "5f818091-013f-43d2-80a9-095e6167ea2f"
      },
      "execution_count": null,
      "outputs": [
        {
          "output_type": "execute_result",
          "data": {
            "text/plain": [
              "            BLUE     ORANGE\n",
              "count  12.000000  12.000000\n",
              "mean    0.010000   0.010000\n",
              "std     0.023977   0.079601\n",
              "min    -0.031763  -0.168261\n",
              "25%    -0.011734  -0.037525\n",
              "50%     0.016655   0.031852\n",
              "75%     0.030355   0.070077\n",
              "max     0.037786   0.117008"
            ],
            "text/html": [
              "\n",
              "  <div id=\"df-a5e11540-bddb-412b-b3a5-c3159ae27171\" class=\"colab-df-container\">\n",
              "    <div>\n",
              "<style scoped>\n",
              "    .dataframe tbody tr th:only-of-type {\n",
              "        vertical-align: middle;\n",
              "    }\n",
              "\n",
              "    .dataframe tbody tr th {\n",
              "        vertical-align: top;\n",
              "    }\n",
              "\n",
              "    .dataframe thead th {\n",
              "        text-align: right;\n",
              "    }\n",
              "</style>\n",
              "<table border=\"1\" class=\"dataframe\">\n",
              "  <thead>\n",
              "    <tr style=\"text-align: right;\">\n",
              "      <th></th>\n",
              "      <th>BLUE</th>\n",
              "      <th>ORANGE</th>\n",
              "    </tr>\n",
              "  </thead>\n",
              "  <tbody>\n",
              "    <tr>\n",
              "      <th>count</th>\n",
              "      <td>12.000000</td>\n",
              "      <td>12.000000</td>\n",
              "    </tr>\n",
              "    <tr>\n",
              "      <th>mean</th>\n",
              "      <td>0.010000</td>\n",
              "      <td>0.010000</td>\n",
              "    </tr>\n",
              "    <tr>\n",
              "      <th>std</th>\n",
              "      <td>0.023977</td>\n",
              "      <td>0.079601</td>\n",
              "    </tr>\n",
              "    <tr>\n",
              "      <th>min</th>\n",
              "      <td>-0.031763</td>\n",
              "      <td>-0.168261</td>\n",
              "    </tr>\n",
              "    <tr>\n",
              "      <th>25%</th>\n",
              "      <td>-0.011734</td>\n",
              "      <td>-0.037525</td>\n",
              "    </tr>\n",
              "    <tr>\n",
              "      <th>50%</th>\n",
              "      <td>0.016655</td>\n",
              "      <td>0.031852</td>\n",
              "    </tr>\n",
              "    <tr>\n",
              "      <th>75%</th>\n",
              "      <td>0.030355</td>\n",
              "      <td>0.070077</td>\n",
              "    </tr>\n",
              "    <tr>\n",
              "      <th>max</th>\n",
              "      <td>0.037786</td>\n",
              "      <td>0.117008</td>\n",
              "    </tr>\n",
              "  </tbody>\n",
              "</table>\n",
              "</div>\n",
              "    <div class=\"colab-df-buttons\">\n",
              "\n",
              "  <div class=\"colab-df-container\">\n",
              "    <button class=\"colab-df-convert\" onclick=\"convertToInteractive('df-a5e11540-bddb-412b-b3a5-c3159ae27171')\"\n",
              "            title=\"Convert this dataframe to an interactive table.\"\n",
              "            style=\"display:none;\">\n",
              "\n",
              "  <svg xmlns=\"http://www.w3.org/2000/svg\" height=\"24px\" viewBox=\"0 -960 960 960\">\n",
              "    <path d=\"M120-120v-720h720v720H120Zm60-500h600v-160H180v160Zm220 220h160v-160H400v160Zm0 220h160v-160H400v160ZM180-400h160v-160H180v160Zm440 0h160v-160H620v160ZM180-180h160v-160H180v160Zm440 0h160v-160H620v160Z\"/>\n",
              "  </svg>\n",
              "    </button>\n",
              "\n",
              "  <style>\n",
              "    .colab-df-container {\n",
              "      display:flex;\n",
              "      gap: 12px;\n",
              "    }\n",
              "\n",
              "    .colab-df-convert {\n",
              "      background-color: #E8F0FE;\n",
              "      border: none;\n",
              "      border-radius: 50%;\n",
              "      cursor: pointer;\n",
              "      display: none;\n",
              "      fill: #1967D2;\n",
              "      height: 32px;\n",
              "      padding: 0 0 0 0;\n",
              "      width: 32px;\n",
              "    }\n",
              "\n",
              "    .colab-df-convert:hover {\n",
              "      background-color: #E2EBFA;\n",
              "      box-shadow: 0px 1px 2px rgba(60, 64, 67, 0.3), 0px 1px 3px 1px rgba(60, 64, 67, 0.15);\n",
              "      fill: #174EA6;\n",
              "    }\n",
              "\n",
              "    .colab-df-buttons div {\n",
              "      margin-bottom: 4px;\n",
              "    }\n",
              "\n",
              "    [theme=dark] .colab-df-convert {\n",
              "      background-color: #3B4455;\n",
              "      fill: #D2E3FC;\n",
              "    }\n",
              "\n",
              "    [theme=dark] .colab-df-convert:hover {\n",
              "      background-color: #434B5C;\n",
              "      box-shadow: 0px 1px 3px 1px rgba(0, 0, 0, 0.15);\n",
              "      filter: drop-shadow(0px 1px 2px rgba(0, 0, 0, 0.3));\n",
              "      fill: #FFFFFF;\n",
              "    }\n",
              "  </style>\n",
              "\n",
              "    <script>\n",
              "      const buttonEl =\n",
              "        document.querySelector('#df-a5e11540-bddb-412b-b3a5-c3159ae27171 button.colab-df-convert');\n",
              "      buttonEl.style.display =\n",
              "        google.colab.kernel.accessAllowed ? 'block' : 'none';\n",
              "\n",
              "      async function convertToInteractive(key) {\n",
              "        const element = document.querySelector('#df-a5e11540-bddb-412b-b3a5-c3159ae27171');\n",
              "        const dataTable =\n",
              "          await google.colab.kernel.invokeFunction('convertToInteractive',\n",
              "                                                    [key], {});\n",
              "        if (!dataTable) return;\n",
              "\n",
              "        const docLinkHtml = 'Like what you see? Visit the ' +\n",
              "          '<a target=\"_blank\" href=https://colab.research.google.com/notebooks/data_table.ipynb>data table notebook</a>'\n",
              "          + ' to learn more about interactive tables.';\n",
              "        element.innerHTML = '';\n",
              "        dataTable['output_type'] = 'display_data';\n",
              "        await google.colab.output.renderOutput(dataTable, element);\n",
              "        const docLink = document.createElement('div');\n",
              "        docLink.innerHTML = docLinkHtml;\n",
              "        element.appendChild(docLink);\n",
              "      }\n",
              "    </script>\n",
              "  </div>\n",
              "\n",
              "\n",
              "<div id=\"df-47ce7255-7f03-422e-8d2e-3ee6d86735c7\">\n",
              "  <button class=\"colab-df-quickchart\" onclick=\"quickchart('df-47ce7255-7f03-422e-8d2e-3ee6d86735c7')\"\n",
              "            title=\"Suggest charts.\"\n",
              "            style=\"display:none;\">\n",
              "\n",
              "<svg xmlns=\"http://www.w3.org/2000/svg\" height=\"24px\"viewBox=\"0 0 24 24\"\n",
              "     width=\"24px\">\n",
              "    <g>\n",
              "        <path d=\"M19 3H5c-1.1 0-2 .9-2 2v14c0 1.1.9 2 2 2h14c1.1 0 2-.9 2-2V5c0-1.1-.9-2-2-2zM9 17H7v-7h2v7zm4 0h-2V7h2v10zm4 0h-2v-4h2v4z\"/>\n",
              "    </g>\n",
              "</svg>\n",
              "  </button>\n",
              "\n",
              "<style>\n",
              "  .colab-df-quickchart {\n",
              "      --bg-color: #E8F0FE;\n",
              "      --fill-color: #1967D2;\n",
              "      --hover-bg-color: #E2EBFA;\n",
              "      --hover-fill-color: #174EA6;\n",
              "      --disabled-fill-color: #AAA;\n",
              "      --disabled-bg-color: #DDD;\n",
              "  }\n",
              "\n",
              "  [theme=dark] .colab-df-quickchart {\n",
              "      --bg-color: #3B4455;\n",
              "      --fill-color: #D2E3FC;\n",
              "      --hover-bg-color: #434B5C;\n",
              "      --hover-fill-color: #FFFFFF;\n",
              "      --disabled-bg-color: #3B4455;\n",
              "      --disabled-fill-color: #666;\n",
              "  }\n",
              "\n",
              "  .colab-df-quickchart {\n",
              "    background-color: var(--bg-color);\n",
              "    border: none;\n",
              "    border-radius: 50%;\n",
              "    cursor: pointer;\n",
              "    display: none;\n",
              "    fill: var(--fill-color);\n",
              "    height: 32px;\n",
              "    padding: 0;\n",
              "    width: 32px;\n",
              "  }\n",
              "\n",
              "  .colab-df-quickchart:hover {\n",
              "    background-color: var(--hover-bg-color);\n",
              "    box-shadow: 0 1px 2px rgba(60, 64, 67, 0.3), 0 1px 3px 1px rgba(60, 64, 67, 0.15);\n",
              "    fill: var(--button-hover-fill-color);\n",
              "  }\n",
              "\n",
              "  .colab-df-quickchart-complete:disabled,\n",
              "  .colab-df-quickchart-complete:disabled:hover {\n",
              "    background-color: var(--disabled-bg-color);\n",
              "    fill: var(--disabled-fill-color);\n",
              "    box-shadow: none;\n",
              "  }\n",
              "\n",
              "  .colab-df-spinner {\n",
              "    border: 2px solid var(--fill-color);\n",
              "    border-color: transparent;\n",
              "    border-bottom-color: var(--fill-color);\n",
              "    animation:\n",
              "      spin 1s steps(1) infinite;\n",
              "  }\n",
              "\n",
              "  @keyframes spin {\n",
              "    0% {\n",
              "      border-color: transparent;\n",
              "      border-bottom-color: var(--fill-color);\n",
              "      border-left-color: var(--fill-color);\n",
              "    }\n",
              "    20% {\n",
              "      border-color: transparent;\n",
              "      border-left-color: var(--fill-color);\n",
              "      border-top-color: var(--fill-color);\n",
              "    }\n",
              "    30% {\n",
              "      border-color: transparent;\n",
              "      border-left-color: var(--fill-color);\n",
              "      border-top-color: var(--fill-color);\n",
              "      border-right-color: var(--fill-color);\n",
              "    }\n",
              "    40% {\n",
              "      border-color: transparent;\n",
              "      border-right-color: var(--fill-color);\n",
              "      border-top-color: var(--fill-color);\n",
              "    }\n",
              "    60% {\n",
              "      border-color: transparent;\n",
              "      border-right-color: var(--fill-color);\n",
              "    }\n",
              "    80% {\n",
              "      border-color: transparent;\n",
              "      border-right-color: var(--fill-color);\n",
              "      border-bottom-color: var(--fill-color);\n",
              "    }\n",
              "    90% {\n",
              "      border-color: transparent;\n",
              "      border-bottom-color: var(--fill-color);\n",
              "    }\n",
              "  }\n",
              "</style>\n",
              "\n",
              "  <script>\n",
              "    async function quickchart(key) {\n",
              "      const quickchartButtonEl =\n",
              "        document.querySelector('#' + key + ' button');\n",
              "      quickchartButtonEl.disabled = true;  // To prevent multiple clicks.\n",
              "      quickchartButtonEl.classList.add('colab-df-spinner');\n",
              "      try {\n",
              "        const charts = await google.colab.kernel.invokeFunction(\n",
              "            'suggestCharts', [key], {});\n",
              "      } catch (error) {\n",
              "        console.error('Error during call to suggestCharts:', error);\n",
              "      }\n",
              "      quickchartButtonEl.classList.remove('colab-df-spinner');\n",
              "      quickchartButtonEl.classList.add('colab-df-quickchart-complete');\n",
              "    }\n",
              "    (() => {\n",
              "      let quickchartButtonEl =\n",
              "        document.querySelector('#df-47ce7255-7f03-422e-8d2e-3ee6d86735c7 button');\n",
              "      quickchartButtonEl.style.display =\n",
              "        google.colab.kernel.accessAllowed ? 'block' : 'none';\n",
              "    })();\n",
              "  </script>\n",
              "</div>\n",
              "    </div>\n",
              "  </div>\n"
            ]
          },
          "metadata": {},
          "execution_count": 6
        }
      ]
    },
    {
      "cell_type": "code",
      "source": [
        "rendimientos_simple.mean() # media de los rendimientos"
      ],
      "metadata": {
        "colab": {
          "base_uri": "https://localhost:8080/"
        },
        "id": "zT_riOa53ukn",
        "outputId": "b9f6607a-557e-4901-c6ff-57cd3a35d20b"
      },
      "execution_count": null,
      "outputs": [
        {
          "output_type": "execute_result",
          "data": {
            "text/plain": [
              "BLUE      0.01\n",
              "ORANGE    0.01\n",
              "dtype: float64"
            ]
          },
          "metadata": {},
          "execution_count": 7
        }
      ]
    },
    {
      "cell_type": "code",
      "source": [
        "desviacion = rendimientos_simple.std() # desviacion estandar de los rendimientos"
      ],
      "metadata": {
        "id": "dnhmAkDj4Rrp"
      },
      "execution_count": null,
      "outputs": []
    },
    {
      "cell_type": "markdown",
      "source": [
        "**2.- Ahora que tenemos una serie de rendimientos de 12 meses, podemos producir el rendimiento compuesto multiplicando los rendimientos de los períodos individuales, siempre y cuando los rendimientos se expresen como tasas de crecimiento.**"
      ],
      "metadata": {
        "id": "jDnvA3te6XNw"
      }
    },
    {
      "cell_type": "code",
      "source": [
        "rendimientos_compuesto=(rendimientos_simple+1).prod()-1 # con esta formula se recupera el rendimiento compuesto con los datos recuperados del rendimiento simple de las series BLUE y ORANGE\n",
        "rendimientos_compuesto"
      ],
      "metadata": {
        "colab": {
          "base_uri": "https://localhost:8080/"
        },
        "id": "c3jx-SpO5byq",
        "outputId": "478a850e-7adb-416f-f627-9b225824ee39"
      },
      "execution_count": null,
      "outputs": [
        {
          "output_type": "execute_result",
          "data": {
            "text/plain": [
              "BLUE      0.123310\n",
              "ORANGE    0.087167\n",
              "dtype: float64"
            ]
          },
          "metadata": {},
          "execution_count": 9
        }
      ]
    },
    {
      "cell_type": "markdown",
      "source": [
        "**3.- Anualiza un 1% mensual, un 4% trimestral y un 0,01% de rentabilidad diaria.***"
      ],
      "metadata": {
        "id": "vLqI_SkV66QZ"
      }
    },
    {
      "cell_type": "code",
      "source": [
        "mensual =(1+.01)**12\n",
        "trimestral = (1+.04)**4\n",
        "diaria = (1+.0001)**252\n",
        "\n",
        "# con la formulas anteriores podemos recuperar la tasa que se pide de acuerdo al periodo dado\n"
      ],
      "metadata": {
        "id": "yZi5jbe165gL"
      },
      "execution_count": null,
      "outputs": []
    },
    {
      "cell_type": "code",
      "source": [
        "mensual\n",
        "# en esta variable guardamos el valor de la tasa de 1% con capitalización mensual anualizada. Usamos la fórmula (1 + i)**n n = número de capitalizaciones al año"
      ],
      "metadata": {
        "colab": {
          "base_uri": "https://localhost:8080/"
        },
        "id": "3wD7WyxL-pNg",
        "outputId": "985b6092-ba9d-4e10-8404-dbadbc8af480"
      },
      "execution_count": null,
      "outputs": [
        {
          "output_type": "execute_result",
          "data": {
            "text/plain": [
              "1.1268250301319698"
            ]
          },
          "metadata": {},
          "execution_count": 11
        }
      ]
    },
    {
      "cell_type": "code",
      "source": [
        "trimestral\n",
        "# en esta variable guardamos el valor de la tasa de 4% con capitalización trimestral anualizada. Usamos la fórmula (1 + i)**n n = número de capitalizaciones al año"
      ],
      "metadata": {
        "colab": {
          "base_uri": "https://localhost:8080/"
        },
        "id": "jPd5nzh8-wQE",
        "outputId": "49b51e1b-868e-4ed5-eace-5833f8a0cb5c"
      },
      "execution_count": null,
      "outputs": [
        {
          "output_type": "execute_result",
          "data": {
            "text/plain": [
              "1.1698585600000002"
            ]
          },
          "metadata": {},
          "execution_count": 12
        }
      ]
    },
    {
      "cell_type": "code",
      "source": [
        "diaria\n",
        "# en esta variable guardamos el valor de la tasa de .01% con capitalización diaria anualizada. Usamos la fórmula (1 + i)**n n = número de capitalizaciones al año"
      ],
      "metadata": {
        "colab": {
          "base_uri": "https://localhost:8080/"
        },
        "id": "A3D4Ha3e-xto",
        "outputId": "dc2befb3-7096-4c99-9e9b-975753e78e7f"
      },
      "execution_count": null,
      "outputs": [
        {
          "output_type": "execute_result",
          "data": {
            "text/plain": [
              "1.0255189119876946"
            ]
          },
          "metadata": {},
          "execution_count": 13
        }
      ]
    },
    {
      "cell_type": "markdown",
      "source": [
        "**4.- Ahora, anualiza la volatilidad escalándola (multiplicándola) por la raíz cuadrada del número de\n",
        "períodos por observación**"
      ],
      "metadata": {
        "id": "Uhgz2sPg9uJz"
      }
    },
    {
      "cell_type": "code",
      "source": [
        "volatilidad_anualizada = desviacion * (1/12)\n",
        "volatilidad_anualizada\n",
        "# creamos una variable llamada volatilidad_anualizada en donde guardamos el valor de la desviación estándar elevada a la raíz de 12 que es el número de periodos de observación"
      ],
      "metadata": {
        "colab": {
          "base_uri": "https://localhost:8080/"
        },
        "id": "d98syMTrAXjF",
        "outputId": "87bd5b18-e6cf-4251-a4d8-ea581d610988"
      },
      "execution_count": null,
      "outputs": [
        {
          "output_type": "execute_result",
          "data": {
            "text/plain": [
              "BLUE      0.001998\n",
              "ORANGE    0.006633\n",
              "dtype: float64"
            ]
          },
          "metadata": {},
          "execution_count": 14
        }
      ]
    },
    {
      "cell_type": "markdown",
      "source": [
        "**5.- En tu Módulo (que creaste en las sesiones), escribe atributos a tu clase ya formada en donde\n",
        "calcules el rendimiento compuesto y en donde anualices rendimientos**"
      ],
      "metadata": {
        "id": "tkeLQJWW9yE8"
      }
    },
    {
      "cell_type": "code",
      "source": [
        "# Modulo creado en clase\n",
        "from datetime import datetime\n",
        "import yfinance as yf\n",
        "\n",
        "class Asset:\n",
        "    def _init_(self, ticker, start_date, end_date=datetime.today().strftime('%Y-%m-%d')):\n",
        "        self.ticker = ticker\n",
        "        self.start_date = start_date\n",
        "        self.end_date = end_date\n",
        "        self.data = self.get_data()\n",
        "    def get_data(self):\n",
        "        df = yf.download(self.ticker, start=self.start_date, end=self.end_date)\n",
        "        return df\n",
        "\n",
        "    def simple_returns(self, adj=False, cum=False):\n",
        "        if adj:\n",
        "            simple_returns = self.data[\"Adj Close\"].pct_change().dropna()\n",
        "        else:\n",
        "            simple_returns = self.data[\"Close\"].pct_change().dropna()\n",
        "        if cum:\n",
        "            simple_returns = (1 + simple_returns).cumprod() - 1\n",
        "        return simple_returns\n"
      ],
      "metadata": {
        "id": "SxZM8iVpB6Zt"
      },
      "execution_count": null,
      "outputs": []
    },
    {
      "cell_type": "code",
      "source": [
        "    # Atributos nuevos con rendimiento compuesto y anualizado\n",
        "    def calculate_compound_return(self):\n",
        "        simple_returns = self.simple_returns()\n",
        "        compound_return = (1 + simple_returns).prod() - 1\n",
        "        return compound_return\n",
        "\n",
        "    def annualize_returns(self, rendimiento_periodo, periodos_por_anio):\n",
        "        return (1 + rendimiento_periodo) ** periodos_por_anio - 1"
      ],
      "metadata": {
        "id": "9dMvFO3gIba8"
      },
      "execution_count": null,
      "outputs": []
    },
    {
      "cell_type": "markdown",
      "source": [
        "**6.- Crea un DataFrame a partir de un diccionario cuyas columnas sean “Stock A” y “Stock B”. Cada\n",
        "columna tendrá 10 valores que deberás elegir a partir de una distribución normal con parámetros\n",
        "10 (media) y 2 (desviación estándar).**"
      ],
      "metadata": {
        "id": "JL8bgDy592DH"
      }
    },
    {
      "cell_type": "code",
      "source": [
        "data = {\n",
        "    \"Stock A\": np.random.normal(10, 2, 10),\n",
        "    \"Stock B\": np.random.normal(10, 2, 10)\n",
        "}\n",
        "\n",
        "df = pd.DataFrame(data)\n",
        "print(df)\n",
        "# Se crea un data frame a partir del diccionario con dos acciones que tienen valores aleatorios con una distrubucion normal con los parametros indicadios"
      ],
      "metadata": {
        "colab": {
          "base_uri": "https://localhost:8080/"
        },
        "id": "qH5_kYImGy2Q",
        "outputId": "7ae648a1-c8ce-43fc-ebf0-ccf423b80800"
      },
      "execution_count": null,
      "outputs": [
        {
          "output_type": "stream",
          "name": "stdout",
          "text": [
            "     Stock A    Stock B\n",
            "0   9.787531   6.601612\n",
            "1  12.742870   8.510754\n",
            "2   5.027406  12.686483\n",
            "3  12.134356  11.845832\n",
            "4  12.241499  10.920893\n",
            "5   7.963079  11.704011\n",
            "6   9.636682  10.293200\n",
            "7   8.371582   7.211999\n",
            "8   7.632829   9.958847\n",
            "9   9.210219  11.820099\n"
          ]
        }
      ]
    },
    {
      "cell_type": "markdown",
      "source": [
        "**7.- Usando las funciones ya creadas en tu Módulo, calcular el rendimiento total (compuesto) durante\n",
        "todo el período de tiempo. También, calcula la media y la desviación estándar de cada Stock.\n",
        "Después, anualiza la desviación estándar.**"
      ],
      "metadata": {
        "id": "EuKh31rV92Jt"
      }
    },
    {
      "cell_type": "code",
      "source": [
        "rendimiento_stocks=df.pct_change().dropna()\n",
        "rendcompuesto_stocks = (rendimiento_stocks + 1).prod() - 1\n",
        "\n",
        "#Rendimiento de los stocks\n",
        "rendcompuesto_stocks\n"
      ],
      "metadata": {
        "colab": {
          "base_uri": "https://localhost:8080/"
        },
        "id": "jNYFi0q2JvUU",
        "outputId": "35d835f4-0874-4216-ca19-a97f9458f0fa"
      },
      "execution_count": null,
      "outputs": [
        {
          "output_type": "execute_result",
          "data": {
            "text/plain": [
              "Stock A   -0.058984\n",
              "Stock B    0.790487\n",
              "dtype: float64"
            ]
          },
          "metadata": {},
          "execution_count": 18
        }
      ]
    },
    {
      "cell_type": "code",
      "source": [
        "media_stocks=rendimiento_stocks.mean() # Calculo de la media de los rendimientos de los stocks\n",
        "media_stocks # imprimir el resultado"
      ],
      "metadata": {
        "colab": {
          "base_uri": "https://localhost:8080/"
        },
        "id": "vdlSBIidKBI2",
        "outputId": "74e7f403-40ac-4c64-ced9-6f198e0d2d4f"
      },
      "execution_count": null,
      "outputs": [
        {
          "output_type": "execute_result",
          "data": {
            "text/plain": [
              "Stock A    0.107417\n",
              "Stock B    0.095009\n",
              "dtype: float64"
            ]
          },
          "metadata": {},
          "execution_count": 19
        }
      ]
    },
    {
      "cell_type": "code",
      "source": [
        "desviacion_stocks=rendimiento_stocks.std() # Calculo de la desviacion estandar de los rendimientos de los stocks\n",
        "desviacion_stocks  # imprimir el resultado"
      ],
      "metadata": {
        "colab": {
          "base_uri": "https://localhost:8080/"
        },
        "id": "BYr4YH8tKAKf",
        "outputId": "9ec5f778-91b0-4ea6-fa4d-01a07bef1287"
      },
      "execution_count": null,
      "outputs": [
        {
          "output_type": "execute_result",
          "data": {
            "text/plain": [
              "Stock A    0.568599\n",
              "Stock B    0.260500\n",
              "dtype: float64"
            ]
          },
          "metadata": {},
          "execution_count": 20
        }
      ]
    },
    {
      "cell_type": "markdown",
      "source": [
        "**8.- Crea dos activos artificiales que llamarás “AA” y “BB”, respectivamente. Supongamos que un\n",
        "cierto activo “AA” pierde 1% por mes durante 12 meses y un cierto activo “BB” gana 1% por mes\n",
        "para los 12 meses. ¿Cuál es el activo más volátil? Recuerda que la volatilidad se mide a\n",
        "través de la desviación estándar.**"
      ],
      "metadata": {
        "id": "IPwmIioh92Mh"
      }
    },
    {
      "cell_type": "code",
      "source": [
        "import pandas as pd\n",
        "import numpy as np"
      ],
      "metadata": {
        "id": "yUAHRTHANqG8"
      },
      "execution_count": 17,
      "outputs": []
    },
    {
      "cell_type": "code",
      "source": [
        "# Creamos una serie de datos para el activo \"AA\" para que pierde 1% al mes durante 12 meses\n",
        "# Creamos una serie de datos para el activo \"BB\" para que gana 1% al mes durante 12 meses\n",
        "rendimientos_AA = pd.Series([-0.01] * 12)\n",
        "rendimientos_BB = pd.Series([0.01] * 12)"
      ],
      "metadata": {
        "id": "Vc3Q972BQMX6"
      },
      "execution_count": 18,
      "outputs": []
    },
    {
      "cell_type": "code",
      "source": [
        "# Calcular la desviación estándar de los rendimientos de \"AA\" y \"BB\" para medir la volatilidad\n",
        "volatilidad_AA = np.std(rendimientos_AA)\n",
        "volatilidad_BB = np.std(rendimientos_BB)\n"
      ],
      "metadata": {
        "id": "ZcBmdHRgQTXv"
      },
      "execution_count": 19,
      "outputs": []
    },
    {
      "cell_type": "code",
      "source": [
        "# Comparar la volatilidad de los activos\n",
        "if volatilidad_AA > volatilidad_BB:\n",
        "    print(\"El activo AA es más volátil.\")\n",
        "elif volatilidad_BB > volatilidad_AA:\n",
        "    print(\"El activo BB es más volátil.\")\n",
        "else:\n",
        "    print(\"Ambos activos tienen la misma volatilidad.\")"
      ],
      "metadata": {
        "colab": {
          "base_uri": "https://localhost:8080/"
        },
        "id": "_FYrVe6vQX47",
        "outputId": "71e6185a-db98-4164-a52a-8e87883fbb43"
      },
      "execution_count": 20,
      "outputs": [
        {
          "output_type": "stream",
          "name": "stdout",
          "text": [
            "Ambos activos tienen la misma volatilidad.\n"
          ]
        }
      ]
    },
    {
      "cell_type": "markdown",
      "source": [
        "**9.- Usando tu Módulo, descarga los tickers “AMZN”, “KO”, “MSFT” desde el primero de enero\n",
        "del 2011 hasta el primero de enero del 2019. Realiza un análisis financiero usando lo visto en clase\n",
        "y los incisos anteriores. Finalmente, realiza un histograma para los rendimientos de cada ticker.\n",
        "¿Qué observas de los histogramas?**"
      ],
      "metadata": {
        "id": "h7CW2vRC92Xb"
      }
    },
    {
      "cell_type": "code",
      "source": [
        "#Descargamos datos financieros utilizando una biblioteca como yfinance (Yahoo Finance) o otra fuente de datos financiera\n",
        "import pandas as pd\n",
        "import yfinance as yf\n",
        "import numpy as np\n",
        "import matplotlib.pyplot as plt"
      ],
      "metadata": {
        "id": "YUhQjFPpVw4Y"
      },
      "execution_count": 36,
      "outputs": []
    },
    {
      "cell_type": "code",
      "source": [
        "# Descargamos los datos financieros para los tickers y las fechas especificas\n",
        "tickers = [\"AMZN\", \"KO\", \"MSFT\"]\n",
        "start_date = \"2011-01-01\"\n",
        "end_date = \"2019-01-01\"\n",
        "data = yf.download(tickers, start=start_date, end=end_date)['Adj Close']"
      ],
      "metadata": {
        "colab": {
          "base_uri": "https://localhost:8080/"
        },
        "id": "bt954rFzVytV",
        "outputId": "fde6a183-b052-48be-9960-25a2f3a526b5"
      },
      "execution_count": 38,
      "outputs": [
        {
          "output_type": "stream",
          "name": "stdout",
          "text": [
            "[*********************100%%**********************]  3 of 3 completed\n"
          ]
        }
      ]
    },
    {
      "cell_type": "code",
      "source": [
        "# Calculamos los rendimientos diarios\n",
        "returns = data.pct_change().dropna()"
      ],
      "metadata": {
        "id": "g1b5c6D9V-eC"
      },
      "execution_count": 39,
      "outputs": []
    },
    {
      "cell_type": "code",
      "source": [
        "# rendimiento rpomedio y desviación estándar\n",
        "mean_returns = returns.mean()\n",
        "std_dev = returns.std()\n",
        "cov_matrix = returns.cov()"
      ],
      "metadata": {
        "id": "T1MNxOg1WDkw"
      },
      "execution_count": 40,
      "outputs": []
    },
    {
      "cell_type": "code",
      "source": [
        "print(\"Rendimientos promedio:\")\n",
        "print(mean_returns)\n",
        "print(\"\\nDesviación estándar de los rendimientos:\")\n",
        "print(std_dev)\n",
        "print(\"\\nMatriz de covarianza:\")\n",
        "print(cov_matrix)"
      ],
      "metadata": {
        "colab": {
          "base_uri": "https://localhost:8080/"
        },
        "id": "eKDAXGUkWHKv",
        "outputId": "469e30be-9d04-4f0e-9ff1-7e42447c5a82"
      },
      "execution_count": 41,
      "outputs": [
        {
          "output_type": "stream",
          "name": "stdout",
          "text": [
            "Rendimientos promedio:\n",
            "AMZN    0.001241\n",
            "KO      0.000349\n",
            "MSFT    0.000849\n",
            "dtype: float64\n",
            "\n",
            "Desviación estándar de los rendimientos:\n",
            "AMZN    0.019930\n",
            "KO      0.009066\n",
            "MSFT    0.014583\n",
            "dtype: float64\n",
            "\n",
            "Matriz de covarianza:\n",
            "          AMZN        KO      MSFT\n",
            "AMZN  0.000397  0.000047  0.000137\n",
            "KO    0.000047  0.000082  0.000049\n",
            "MSFT  0.000137  0.000049  0.000213\n"
          ]
        }
      ]
    },
    {
      "cell_type": "code",
      "source": [
        "# Generamos histogramas de los rendimientos\n",
        "returns.hist(bins=50, figsize=(12, 6))\n",
        "plt.title(\"Histograma de Rendimientos\")\n",
        "plt.show()"
      ],
      "metadata": {
        "colab": {
          "base_uri": "https://localhost:8080/",
          "height": 545
        },
        "id": "DypiJhUHWLH8",
        "outputId": "07a1ce89-5f1f-447a-9c55-1c393c8ea4b2"
      },
      "execution_count": 42,
      "outputs": [
        {
          "output_type": "display_data",
          "data": {
            "text/plain": [
              "<Figure size 1200x600 with 4 Axes>"
            ],
            "image/png": "[encoded data removed]"
          },
          "metadata": {}
        }
      ]
    },
    {
      "cell_type": "markdown",
      "source": [
        "**10.- Bosqueja la serie de tiempo para cada ticker del inciso anterior. ¿Cuáles son tus conclusiones?**"
      ],
      "metadata": {
        "id": "fyf2dOhH-C3C"
      }
    },
    {
      "cell_type": "code",
      "source": [
        "import yfinance as yf\n",
        "import matplotlib.pyplot as plt\n",
        "\n",
        "# Descargar datos financieros\n",
        "tickers = [\"AMZN\", \"KO\", \"MSFT\"]\n",
        "start_date = \"2011-01-01\"\n",
        "end_date = \"2019-01-01\"\n",
        "data = yf.download(tickers, start=start_date, end=end_date)['Adj Close']\n",
        "\n",
        "# Crear gráficos de series de tiempo\n",
        "plt.figure(figsize=(12, 6))\n",
        "for ticker in tickers:\n",
        "    plt.plot(data.index, data[ticker], label=ticker)\n",
        "\n",
        "plt.title(\"Serie de Tiempo de Precios de Acciones\")\n",
        "plt.xlabel(\"Fecha\")\n",
        "plt.ylabel(\"Precio de Cierre Ajustado\")\n",
        "plt.legend()\n",
        "plt.grid()\n",
        "plt.show()"
      ],
      "metadata": {
        "colab": {
          "base_uri": "https://localhost:8080/",
          "height": 581
        },
        "id": "J89m0O0wWYj8",
        "outputId": "f2ca461e-99c0-4969-bccb-f410297bcdab"
      },
      "execution_count": 44,
      "outputs": [
        {
          "output_type": "stream",
          "name": "stdout",
          "text": [
            "[*********************100%%**********************]  3 of 3 completed\n"
          ]
        },
        {
          "output_type": "display_data",
          "data": {
            "text/plain": [
              "<Figure size 1200x600 with 1 Axes>"
            ],
            "image/png": "[encoded data removed]"
          },
          "metadata": {}
        }
      ]
    },
    {
      "cell_type": "markdown",
      "source": [
        "# Conclusión\n",
        "\n",
        "# Tras analizar exhaustivamente las tendencias y desempeño de las tres empresas, podemos extraer conclusiones significativas. Estas compañías han demostrado un crecimiento destacable en sus respectivas industrias, destacando su impacto y eficiencia en el mercado empresarial.\n",
        "\n",
        "# Es interesante notar que Amazon y Microsoft, siendo empresas con una orientación tecnológica más marcada, han demostrado un potencial de crecimiento superior en comparación con Coca Cola. Este diferencial se ha materializado en un crecimiento más pronunciado durante el período de estudio.\n",
        "\n",
        "# A lo largo del análisis, se ha observado que las tres empresas mantienen un crecimiento constante en sus operaciones. Sin embargo, Amazon ha presentado ciertas fluctuaciones, lo cual es comprensible dado su condición de empresa relativamente más reciente en comparación con las otras dos. Este hecho subraya la importancia de considerar el contexto y la trayectoria de cada empresa al evaluar su desempeño y proyecciones futuras en el mercado."
      ],
      "metadata": {
        "id": "TzL0HwlWtqZt"
      }
    }
  ]
}